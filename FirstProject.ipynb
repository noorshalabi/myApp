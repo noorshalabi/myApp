{
 "cells": [
  {
   "cell_type": "markdown",
   "metadata": {
    "collapsed": true
   },
   "source": [
    "#### import matplotlib.pyplot as plt"
   ]
  },
  {
   "cell_type": "code",
   "execution_count": 120,
   "metadata": {
    "collapsed": true
   },
   "outputs": [],
   "source": [
    "import numpy as np"
   ]
  },
  {
   "cell_type": "code",
   "execution_count": 121,
   "metadata": {
    "collapsed": true
   },
   "outputs": [],
   "source": [
    "from sklearn import linear_model\n",
    "import matplotlib.pyplot as plt"
   ]
  },
  {
   "cell_type": "code",
   "execution_count": 129,
   "metadata": {
    "collapsed": false
   },
   "outputs": [],
   "source": [
    "reg = linear_model.Ridge(alpha = 10**-10)\n",
    "reg2 = linear_model.LinearRegression()"
   ]
  },
  {
   "cell_type": "code",
   "execution_count": 130,
   "metadata": {
    "collapsed": false
   },
   "outputs": [],
   "source": [
    "X = [[34],[108],[64],[88],[99],[51]]"
   ]
  },
  {
   "cell_type": "code",
   "execution_count": 131,
   "metadata": {
    "collapsed": true
   },
   "outputs": [],
   "source": [
    "Y = [[5],[17],[11],[8],[14],[5]]"
   ]
  },
  {
   "cell_type": "code",
   "execution_count": 132,
   "metadata": {
    "collapsed": false,
    "scrolled": true
   },
   "outputs": [
    {
     "data": {
      "text/plain": [
       "LinearRegression(copy_X=True, fit_intercept=True, n_jobs=1, normalize=False)"
      ]
     },
     "execution_count": 132,
     "metadata": {},
     "output_type": "execute_result"
    }
   ],
   "source": [
    "reg.fit(X, Y)\n",
    "reg2.fit(X,Y)"
   ]
  },
  {
   "cell_type": "code",
   "execution_count": 133,
   "metadata": {
    "collapsed": false
   },
   "outputs": [
    {
     "name": "stdout",
     "output_type": "stream",
     "text": [
      "('Coefficients: \\n', array([[ 0.14621969]]))\n",
      "('Coefficients: \\n', array([[ 0.14621969]]))\n"
     ]
    }
   ],
   "source": [
    "print('Coefficients: \\n', reg.coef_)\n",
    "print('Coefficients: \\n', reg2.coef_)"
   ]
  },
  {
   "cell_type": "code",
   "execution_count": 134,
   "metadata": {
    "collapsed": false
   },
   "outputs": [
    {
     "data": {
      "image/png": "[encoded data removed]",
      "text/plain": [
       "<matplotlib.figure.Figure at 0x110c85250>"
      ]
     },
     "metadata": {},
     "output_type": "display_data"
    }
   ],
   "source": [
    "plt.scatter(X, Y,  color='black')\n",
    "plt.plot(X, reg.predict(X), color='blue',\n",
    "         linewidth=3)\n",
    "plt.xticks(())\n",
    "plt.yticks(())\n",
    "\n",
    "plt.show()"
   ]
  },
  {
   "cell_type": "code",
   "execution_count": 104,
   "metadata": {
    "collapsed": false
   },
   "outputs": [
    {
     "data": {
      "image/png": "[encoded data removed]",
      "text/plain": [
       "<matplotlib.figure.Figure at 0x1112fa4d0>"
      ]
     },
     "metadata": {},
     "output_type": "display_data"
    }
   ],
   "source": [
    "plt.scatter(X,Y, color= 'black')\n",
    "plt.plot(X, reg2.predict(X), color='red',\n",
    "         linewidth=3)\n",
    "plt.xticks(())\n",
    "plt.yticks(())\n",
    "\n",
    "plt.show()"
   ]
  },
  {
   "cell_type": "code",
   "execution_count": 128,
   "metadata": {
    "collapsed": false
   },
   "outputs": [
    {
     "name": "stdout",
     "output_type": "stream",
     "text": [
      "[[ 13.65549207]]\n",
      "[[ 13.65549215]]\n",
      "[[  8.69113688e-08]]\n",
      "[[ 99.99999936]]\n"
     ]
    }
   ],
   "source": [
    "##When Alpha = 10^-4\n",
    "##X at 99 = 14.0\n",
    "print(reg.predict(99))\n",
    "print(reg2.predict(99))\n",
    "print(reg2.predict(99)-reg.predict(99))\n",
    "similarity = ((reg.predict(99)/reg2.predict(99))*100)\n",
    "print(similarity)\n",
    "##[[ 13.65549207]]\n",
    "##[[ 13.65549215]]\n",
    "##[[  8.69113688e-08]]\n",
    "##[[ 99.99999936]]"
   ]
  },
  {
   "cell_type": "code",
   "execution_count": 135,
   "metadata": {
    "collapsed": false
   },
   "outputs": [
    {
     "name": "stdout",
     "output_type": "stream",
     "text": [
      "[[ 13.65549215]]\n",
      "[[ 13.65549215]]\n",
      "[[  8.88178420e-14]]\n",
      "[[100.]]\n"
     ]
    }
   ],
   "source": [
    "##When Alpha = 10^-10\n",
    "##X at 99 = 14.0\n",
    "print(reg.predict(99))\n",
    "print(reg2.predict(99))\n",
    "print(reg2.predict(99)-reg.predict(99))\n",
    "similarity = ((reg.predict(99)/reg2.predict(99))*100)\n",
    "print(similarity)\n",
    "##[[ 13.65549215]]\n",
    "##[[ 13.65549215]]\n",
    "##[[  8.88178420e-14]]\n",
    "##[[100.]]"
   ]
  },
  {
   "cell_type": "code",
   "execution_count": 119,
   "metadata": {
    "collapsed": false
   },
   "outputs": [
    {
     "name": "stdout",
     "output_type": "stream",
     "text": [
      "[[ 13.64682163]]\n",
      "[[ 13.65549215]]\n",
      "[[ 0.00867052]]\n",
      "[[ 99.93650524]]\n"
     ]
    }
   ],
   "source": [
    "##When Alpha = 10\n",
    "##X at 99 = 14.00\n",
    "##Difference between the two lines\n",
    "print(reg.predict(99))\n",
    "print(reg2.predict(99))\n",
    "print(reg2.predict(99)-reg.predict(99))\n",
    "similarity = ((reg.predict(99)/reg2.predict(99))*100)\n",
    "print(similarity)\n",
    "##[[ 13.64682163]]\n",
    "##[[ 13.65549215]]\n",
    "##[[ 0.00867052]]\n",
    "##[[ 99.93650524]]"
   ]
  },
  {
   "cell_type": "code",
   "execution_count": 114,
   "metadata": {
    "collapsed": false
   },
   "outputs": [],
   "source": []
  },
  {
   "cell_type": "code",
   "execution_count": null,
   "metadata": {
    "collapsed": false
   },
   "outputs": [],
   "source": []
  },
  {
   "cell_type": "code",
   "execution_count": null,
   "metadata": {
    "collapsed": true
   },
   "outputs": [],
   "source": []
  }
 ],
 "metadata": {
  "kernelspec": {
   "display_name": "Python 2",
   "language": "python",
   "name": "python2"
  },
  "language_info": {
   "codemirror_mode": {
    "name": "ipython",
    "version": 2
   },
   "file_extension": ".py",
   "mimetype": "text/x-python",
   "name": "python",
   "nbconvert_exporter": "python",
   "pygments_lexer": "ipython2",
   "version": "2.7.13"
  }
 },
 "nbformat": 4,
 "nbformat_minor": 2
}
